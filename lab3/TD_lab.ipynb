{
 "cells": [
  {
   "cell_type": "markdown",
   "metadata": {},
   "source": [
    "# Reinforcement Learning - Temporal Difference\n",
    "If you want to test/submit your solution **restart the kernel, run all cells and submit the td_autograde.py file into codegrade.**"
   ]
  },
  {
   "cell_type": "code",
   "execution_count": 1,
   "metadata": {},
   "outputs": [],
   "source": [
    "# This cell imports %%execwritefile command (executes cell and writes it into file). \n",
    "# All cells that start with %%execwritefile should be in td_autograde.py file after running all cells.\n",
    "from custommagics import CustomMagics\n",
    "get_ipython().register_magics(CustomMagics)"
   ]
  },
  {
   "cell_type": "code",
   "execution_count": 2,
   "metadata": {},
   "outputs": [
    {
     "name": "stdout",
     "output_type": "stream",
     "text": [
      "Overwriting td_autograde.py\n"
     ]
    }
   ],
   "source": [
    "%%execwritefile td_autograde.py\n",
    "import numpy as np\n",
    "from collections import defaultdict\n",
    "from tqdm import tqdm as _tqdm\n",
    "\n",
    "def tqdm(*args, **kwargs):\n",
    "    return _tqdm(*args, **kwargs, mininterval=1)  # Safety, do not overflow buffer"
   ]
  },
  {
   "cell_type": "code",
   "execution_count": 3,
   "metadata": {
    "nbgrader": {
     "grade": false,
     "grade_id": "cell-fc69f22067705372",
     "locked": true,
     "schema_version": 1,
     "solution": false
    }
   },
   "outputs": [],
   "source": [
    "%matplotlib inline\n",
    "import matplotlib.pyplot as plt\n",
    "import sys\n",
    "\n",
    "import random\n",
    "import time\n",
    "assert sys.version_info[:3] >= (3, 6, 0), \"Make sure you have Python 3.6 installed!\""
   ]
  },
  {
   "cell_type": "markdown",
   "metadata": {
    "nbgrader": {
     "grade": false,
     "grade_id": "cell-eecfd6fb626abfae",
     "locked": true,
     "schema_version": 1,
     "solution": false
    }
   },
   "source": [
    "## 1. Temporal Difference (TD) learning"
   ]
  },
  {
   "cell_type": "markdown",
   "metadata": {
    "nbgrader": {
     "grade": false,
     "grade_id": "cell-21ca38ffcbe1c3ca",
     "locked": true,
     "schema_version": 1,
     "solution": false
    }
   },
   "source": [
    "For the TD algorithms, we will skip the prediction algorithm and go straight for the control setting where we optimize the policy that we are using. To keep it dynamic, we will use the windy gridworld environment (Example 6.5)."
   ]
  },
  {
   "cell_type": "code",
   "execution_count": 4,
   "metadata": {
    "nbgrader": {
     "grade": false,
     "grade_id": "cell-c046fd0377cee46d",
     "locked": true,
     "schema_version": 1,
     "solution": false
    }
   },
   "outputs": [],
   "source": [
    "from windy_gridworld import WindyGridworldEnv\n",
    "env = WindyGridworldEnv()"
   ]
  },
  {
   "cell_type": "markdown",
   "metadata": {},
   "source": [
    "Implement the EpsilonGreedyPolicy class which uses Q-values to sample an action."
   ]
  },
  {
   "cell_type": "code",
   "execution_count": 5,
   "metadata": {},
   "outputs": [],
   "source": [
    "# #TODO: delete this cell before submission\n",
    "# import pdb\n",
    "\n",
    "# # explore the environment using...\n",
    "# # ?env, ??env, env.P, etc.\n",
    "# ??env\n",
    "# env.P\n",
    "# # Q = np.zeros((env.nS, env.nA))\n",
    "# # print(Q)\n",
    "# for idx, sd in enumerate(env.P):\n",
    "#     if sd\n",
    "# env.step(1)"
   ]
  },
  {
   "cell_type": "code",
   "execution_count": 6,
   "metadata": {},
   "outputs": [
    {
     "name": "stdout",
     "output_type": "stream",
     "text": [
      "Appending to td_autograde.py\n"
     ]
    }
   ],
   "source": [
    "%%execwritefile -a td_autograde.py\n",
    "\n",
    "class EpsilonGreedyPolicy(object):\n",
    "    \"\"\"\n",
    "    A simple epsilon greedy policy.\n",
    "    \"\"\"\n",
    "    def __init__(self, Q, epsilon):\n",
    "        self.Q = Q\n",
    "        self.epsilon = epsilon\n",
    "    \n",
    "    def sample_action(self, obs):\n",
    "        \"\"\"\n",
    "        This method takes a state as input and returns an action sampled from this policy.  \n",
    "\n",
    "        Args:\n",
    "            obs: current state\n",
    "\n",
    "        Returns:\n",
    "            An action (int).\n",
    "        \"\"\"\n",
    "        \n",
    "        # Get number of possible actions\n",
    "        num_actions = len(self.Q[obs])\n",
    "        \n",
    "        # Get index of action corresponding to maximum Q-value\n",
    "        max_indices = [index for index, val in enumerate(self.Q[obs]) if val == max(self.Q[obs])]\n",
    "        \n",
    "        # break ties consistently?\n",
    "        max_index = max_indices[0]\n",
    "        \n",
    "        # Probabilities\n",
    "        sample_probs = num_actions * [self.epsilon / num_actions]\n",
    "        sample_probs[max_index] += (1 - self.epsilon)\n",
    "        \n",
    "        # sample\n",
    "        action = np.random.choice(4, 1, p = sample_probs)\n",
    "        \n",
    "        return int(action)"
   ]
  },
  {
   "cell_type": "markdown",
   "metadata": {},
   "source": [
    "Now implement SARSA algorithm."
   ]
  },
  {
   "cell_type": "code",
   "execution_count": 7,
   "metadata": {
    "nbgrader": {
     "grade": true,
     "grade_id": "cell-6b662771f3762bb1",
     "locked": false,
     "points": 2,
     "schema_version": 1,
     "solution": true
    }
   },
   "outputs": [
    {
     "name": "stdout",
     "output_type": "stream",
     "text": [
      "Appending to td_autograde.py\n"
     ]
    }
   ],
   "source": [
    "%%execwritefile -a td_autograde.py\n",
    "from copy import deepcopy\n",
    "\n",
    "def sarsa(env, policy, Q, num_episodes, discount_factor=1.0, alpha=0.5):\n",
    "    \"\"\"\n",
    "    SARSA algorithm: On-policy TD control. Finds the optimal epsilon-greedy policy.\n",
    "    \n",
    "    Args:\n",
    "        env: OpenAI environment.\n",
    "        policy: A policy which allows us to sample actions with its sample_action method.\n",
    "        Q: Q value function, numpy array Q[s,a] -> state-action value.\n",
    "        num_episodes: Number of episodes to run for.\n",
    "        discount_factor: Gamma discount factor.\n",
    "        alpha: TD learning rate.\n",
    "        \n",
    "    Returns:\n",
    "        A tuple (Q, stats).\n",
    "        Q is a numpy array Q[s,a] -> state-action value.\n",
    "        stats is a list of tuples giving the episode lengths and returns.\n",
    "    \"\"\"\n",
    "    \n",
    "    # Keeps track of useful statistics\n",
    "    stats = []\n",
    "    \n",
    "    for i_episode in tqdm(range(num_episodes)):\n",
    "        i = 0\n",
    "        R = 0\n",
    "        \n",
    "        # TODO: randomly initialize state?\n",
    "        #s = int(np.random.choice(env.nS, 1))\n",
    "        \n",
    "        # Following the Figure in Example 6.5, we initialize the starting state at s = 30\n",
    "        state = env.reset()\n",
    "        \n",
    "        # determine terminal states\n",
    "        # TODO: can we assume it's always going to be the same? (i.e., s = 37)\n",
    "        done = False\n",
    "        \n",
    "        # choose A from S using epsilon-greedy policy, derived from Q\n",
    "        action = policy.sample_action(state)\n",
    "        \n",
    "        # loop until terminal state reached\n",
    "        while not done:\n",
    "            \n",
    "            next_state, r, done, _ = env.step(action)\n",
    "            \n",
    "            # take current action, observe current reward and next state\n",
    "            #r = env.P[s][a][0][2]\n",
    "            #s_next = env.P[s][a][0][1]\n",
    "            \n",
    "            # choose next action from next state using policy derived from Q\n",
    "            next_action = policy.sample_action(next_state)\n",
    "            \n",
    "            # update Q\n",
    "            Q[state, action] = Q[state, action] + alpha * (r + discount_factor * Q[next_state, next_action] - Q[state, action])\n",
    "            \n",
    "            #TODO: doesn't that mean I should update the policy?\n",
    "            policy = EpsilonGreedyPolicy(Q, epsilon = 0.1)\n",
    "            \n",
    "            # update current steps and actions\n",
    "            state = next_state\n",
    "            action = next_action\n",
    "            \n",
    "            # update statistics\n",
    "            i += 1\n",
    "            R += r\n",
    "        \n",
    "        stats.append((i, R))\n",
    "    episode_lengths, episode_returns = zip(*stats)\n",
    "    return Q, (episode_lengths, episode_returns)"
   ]
  },
  {
   "cell_type": "code",
   "execution_count": 8,
   "metadata": {},
   "outputs": [],
   "source": [
    "# #TODO: delete cell before submisson\n",
    "# Q = np.zeros((env.nS, env.nA))\n",
    "# policy = EpsilonGreedyPolicy(Q, epsilon=0.1)\n",
    "# Q_sarsa, (episode_lengths_sarsa, episode_returns_sarsa) = sarsa(env, policy, Q, 1000)"
   ]
  },
  {
   "cell_type": "code",
   "execution_count": 9,
   "metadata": {},
   "outputs": [],
   "source": [
    "# print(episode_lengths_sarsa)"
   ]
  },
  {
   "cell_type": "code",
   "execution_count": 10,
   "metadata": {},
   "outputs": [],
   "source": [
    "def running_mean(vals, n=1):\n",
    "    cumvals = np.array(vals).cumsum()\n",
    "    return (cumvals[n:] - cumvals[:-n]) / n"
   ]
  },
  {
   "cell_type": "code",
   "execution_count": 14,
   "metadata": {},
   "outputs": [
    {
     "name": "stderr",
     "output_type": "stream",
     "text": [
      "100%|██████████| 1000/1000 [00:02<00:00, 383.65it/s]\n"
     ]
    },
    {
     "name": "stdout",
     "output_type": "stream",
     "text": [
      "[[-18.69719817 -18.81948385 -19.36018802 -18.64539342]\n",
      " [-18.57170313 -18.3705171  -18.68280123 -18.51978313]\n",
      " [-17.97027123 -15.78773634 -17.8398598  -18.03083053]\n",
      " [-16.63722824 -14.99054569 -16.81466959 -17.89759323]\n",
      " [-15.90145835 -13.42532073 -15.61846749 -16.33597876]\n",
      " [-14.27562043 -12.62786024 -14.9526443  -15.92633323]\n",
      " [-13.17886477 -11.11219209 -12.95034737 -13.90712913]\n",
      " [-13.08197768  -9.41541672 -12.636661   -14.11322292]\n",
      " [-12.21733395  -7.72804464 -11.61707777 -13.16113949]\n",
      " [-11.85267912  -9.34395888  -6.30826206 -11.90096117]\n",
      " [-19.34582919 -18.41318479 -19.48435224 -19.55025498]\n",
      " [-18.70277287 -17.78737424 -19.01877871 -19.09500834]\n",
      " [-17.80296808 -16.98845252 -17.89282809 -17.58579602]\n",
      " [-17.03091878 -14.66443866 -17.42604542 -16.94737548]\n",
      " [-15.74610384 -14.3519993  -16.30133979 -16.3499399 ]\n",
      " [-13.96365608 -11.99069042 -15.349977   -15.60500843]\n",
      " [-13.75319609 -10.46793721 -13.3652022  -13.53587191]\n",
      " [-12.54309074 -10.64077118 -11.84536132 -12.1201334 ]\n",
      " [-11.62650655 -11.89636348 -12.23113746 -11.27143131]\n",
      " [-10.33656952  -9.86826008  -5.49196762 -11.67442494]\n",
      " [-20.29954664 -19.12573038 -20.82915233 -20.62513222]\n",
      " [-19.07994933 -17.901063   -19.03188752 -20.73796914]\n",
      " [-17.62439422 -17.11851476 -17.60106497 -19.8956035 ]\n",
      " [-16.38780681 -16.3281647  -16.62272544 -17.55606614]\n",
      " [-16.29029478 -12.75836125 -16.39474196 -16.13869116]\n",
      " [-14.59722974 -11.71829098 -14.33530249 -14.64032243]\n",
      " [-12.64252319 -11.10724257 -12.92864885 -13.90696391]\n",
      " [-11.12632835 -10.80216971  -9.87030178 -11.7666598 ]\n",
      " [-11.8211865   -8.57580859 -11.15402012 -11.28340069]\n",
      " [-10.39629822  -7.8114202   -4.45550296 -11.23972138]\n",
      " [-20.76883283 -20.30710191 -19.88324987 -21.23819471]\n",
      " [-19.39311188 -18.78691116 -19.13785494 -21.21953227]\n",
      " [-17.96073363 -16.36625745 -17.95025424 -20.12366517]\n",
      " [-17.04395518 -14.50086918 -17.00632991 -18.31461786]\n",
      " [-16.9928516  -13.63095874 -15.65989246 -16.64168219]\n",
      " [-14.75630121 -12.83200416 -13.65903251 -14.41523524]\n",
      " [-12.36421111 -11.83460864 -12.85235681 -12.97365976]\n",
      " [  0.           0.           0.           0.        ]\n",
      " [-10.47245723  -7.16190067  -9.96886037  -9.81315674]\n",
      " [ -8.23064654  -6.22604096  -3.14992234  -9.03872805]\n",
      " [-20.98749573 -19.05495177 -19.48938972 -19.95655959]\n",
      " [-20.10295247 -17.87470371 -18.53136638 -19.44739937]\n",
      " [-18.20622676 -16.46855526 -18.02348715 -18.96722908]\n",
      " [-16.89868633 -15.23550741 -17.56092868 -17.95889785]\n",
      " [-15.20221789 -14.19678699 -15.06139609 -15.94727457]\n",
      " [-13.83827542 -12.91318017 -13.64133561 -14.47472659]\n",
      " [  0.           0.           0.           0.        ]\n",
      " [-10.84257394 -10.1798523   -1.          -7.46701238]\n",
      " [-10.37630241  -6.51088442  -2.02978828  -1.        ]\n",
      " [ -6.59332104  -4.50192042  -6.0731375   -2.        ]\n",
      " [-19.02054034 -18.12594003 -18.82148622 -19.29735242]\n",
      " [-18.81329772 -17.68737743 -17.94828672 -18.08490558]\n",
      " [-17.69618014 -16.82386418 -16.84132434 -18.21072586]\n",
      " [-16.24670665 -15.58061999 -16.01987513 -17.04198397]\n",
      " [-15.58274163 -13.38850123 -14.48607567 -14.75596254]\n",
      " [  0.           0.           0.           0.        ]\n",
      " [  0.           0.           0.           0.        ]\n",
      " [ -2.65865564  -5.68127437  -5.67783901  -4.36626809]\n",
      " [ -8.09071818  -7.00349073  -7.48379464  -4.45867002]\n",
      " [ -6.64059435  -5.47148069  -5.00096702  -7.4188948 ]\n",
      " [-18.78038477 -18.21769519 -18.50077126 -18.12065396]\n",
      " [-17.13355538 -17.12478324 -17.76270404 -18.02756302]\n",
      " [-16.82490531 -15.66096391 -16.50296692 -16.39733543]\n",
      " [-15.55729708 -14.05489002 -15.81430068 -16.36226413]\n",
      " [  0.           0.           0.           0.        ]\n",
      " [  0.           0.           0.           0.        ]\n",
      " [  0.           0.           0.           0.        ]\n",
      " [  0.           0.           0.           0.        ]\n",
      " [ -6.32725268  -5.67200492  -3.47835344  -3.17296687]\n",
      " [ -5.98817814  -5.73109259  -5.44463329  -4.0000716 ]]\n"
     ]
    },
    {
     "data": {
      "image/png": "[encoded data removed]",
      "text/plain": [
       "<Figure size 432x288 with 1 Axes>"
      ]
     },
     "metadata": {
      "needs_background": "light"
     },
     "output_type": "display_data"
    },
    {
     "data": {
      "image/png": "[encoded data removed]",
      "text/plain": [
       "<Figure size 432x288 with 1 Axes>"
      ]
     },
     "metadata": {
      "needs_background": "light"
     },
     "output_type": "display_data"
    }
   ],
   "source": [
    "Q = np.zeros((env.nS, env.nA))\n",
    "policy = EpsilonGreedyPolicy(Q, epsilon=0.1)\n",
    "Q_sarsa, (episode_lengths_sarsa, episode_returns_sarsa) = sarsa(env, policy, Q, 1000)\n",
    "n = 50\n",
    "# We will help you with plotting this time\n",
    "plt.plot(running_mean(episode_lengths_sarsa,n))\n",
    "plt.title('Episode lengths SARSA')\n",
    "plt.show()\n",
    "plt.plot(running_mean(episode_returns_sarsa,n))\n",
    "plt.title('Episode returns SARSA')\n",
    "plt.show()"
   ]
  },
  {
   "cell_type": "markdown",
   "metadata": {
    "nbgrader": {
     "grade": false,
     "grade_id": "cell-0eaf4b925ab3ea34",
     "locked": true,
     "schema_version": 1,
     "solution": false
    }
   },
   "source": [
    "We can also learn the optimal (non-exploring) policy while using another policy to do exploration, which is where we arrive at _off-policy_ learning. In the simplest variant, we learn our own value by bootstrapping based on the action value corresponding to the best action we could take, while the exploration policy actual follows the $\\epsilon$-greedy strategy. This is known as Q-learning."
   ]
  },
  {
   "cell_type": "code",
   "execution_count": 12,
   "metadata": {
    "nbgrader": {
     "grade": true,
     "grade_id": "cell-a87637d2e582fec0",
     "locked": false,
     "points": 1,
     "schema_version": 1,
     "solution": true
    }
   },
   "outputs": [
    {
     "name": "stdout",
     "output_type": "stream",
     "text": [
      "Appending to td_autograde.py\n"
     ]
    }
   ],
   "source": [
    "%%execwritefile -a td_autograde.py\n",
    "\n",
    "def q_learning(env, policy, Q, num_episodes, discount_factor=1.0, alpha=0.5):\n",
    "    \"\"\"\n",
    "    Q-Learning algorithm: Off-policy TD control. Finds the optimal greedy policy\n",
    "    while following an epsilon-greedy policy\n",
    "    \n",
    "    Args:\n",
    "        env: OpenAI environment.\n",
    "        policy: A behavior policy which allows us to sample actions with its sample_action method.\n",
    "        Q: Q value function\n",
    "        num_episodes: Number of episodes to run for.\n",
    "        discount_factor: Gamma discount factor.\n",
    "        alpha: TD learning rate.\n",
    "        \n",
    "    Returns:\n",
    "        A tuple (Q, stats).\n",
    "        Q is a numpy array Q[s,a] -> state-action value.\n",
    "        stats is a list of tuples giving the episode lengths and returns.\n",
    "    \"\"\"\n",
    "    \n",
    "    # Keeps track of useful statistics\n",
    "    stats = []\n",
    "    \n",
    "    for i_episode in tqdm(range(num_episodes)):\n",
    "        i = 0\n",
    "        R = 0\n",
    "        \n",
    "        # YOUR CODE HERE\n",
    "        raise NotImplementedError\n",
    "        \n",
    "        stats.append((i, R))\n",
    "    episode_lengths, episode_returns = zip(*stats)\n",
    "    return Q, (episode_lengths, episode_returns)"
   ]
  },
  {
   "cell_type": "code",
   "execution_count": 13,
   "metadata": {},
   "outputs": [
    {
     "name": "stderr",
     "output_type": "stream",
     "text": [
      "  0%|          | 0/1000 [00:00<?, ?it/s]\n"
     ]
    },
    {
     "ename": "NotImplementedError",
     "evalue": "",
     "output_type": "error",
     "traceback": [
      "\u001b[0;31m---------------------------------------------------------------------------\u001b[0m",
      "\u001b[0;31mNotImplementedError\u001b[0m                       Traceback (most recent call last)",
      "\u001b[0;32m<ipython-input-13-f42f850de68a>\u001b[0m in \u001b[0;36m<module>\u001b[0;34m\u001b[0m\n\u001b[1;32m      1\u001b[0m \u001b[0mQ\u001b[0m \u001b[0;34m=\u001b[0m \u001b[0mnp\u001b[0m\u001b[0;34m.\u001b[0m\u001b[0mzeros\u001b[0m\u001b[0;34m(\u001b[0m\u001b[0;34m(\u001b[0m\u001b[0menv\u001b[0m\u001b[0;34m.\u001b[0m\u001b[0mnS\u001b[0m\u001b[0;34m,\u001b[0m \u001b[0menv\u001b[0m\u001b[0;34m.\u001b[0m\u001b[0mnA\u001b[0m\u001b[0;34m)\u001b[0m\u001b[0;34m)\u001b[0m\u001b[0;34m\u001b[0m\u001b[0;34m\u001b[0m\u001b[0m\n\u001b[1;32m      2\u001b[0m \u001b[0mpolicy\u001b[0m \u001b[0;34m=\u001b[0m \u001b[0mEpsilonGreedyPolicy\u001b[0m\u001b[0;34m(\u001b[0m\u001b[0mQ\u001b[0m\u001b[0;34m,\u001b[0m \u001b[0mepsilon\u001b[0m\u001b[0;34m=\u001b[0m\u001b[0;36m0.1\u001b[0m\u001b[0;34m)\u001b[0m\u001b[0;34m\u001b[0m\u001b[0;34m\u001b[0m\u001b[0m\n\u001b[0;32m----> 3\u001b[0;31m \u001b[0mQ_q_learning\u001b[0m\u001b[0;34m,\u001b[0m \u001b[0;34m(\u001b[0m\u001b[0mepisode_lengths_q_learning\u001b[0m\u001b[0;34m,\u001b[0m \u001b[0mepisode_returns_q_learning\u001b[0m\u001b[0;34m)\u001b[0m \u001b[0;34m=\u001b[0m \u001b[0mq_learning\u001b[0m\u001b[0;34m(\u001b[0m\u001b[0menv\u001b[0m\u001b[0;34m,\u001b[0m \u001b[0mpolicy\u001b[0m\u001b[0;34m,\u001b[0m \u001b[0mQ\u001b[0m\u001b[0;34m,\u001b[0m \u001b[0;36m1000\u001b[0m\u001b[0;34m)\u001b[0m\u001b[0;34m\u001b[0m\u001b[0;34m\u001b[0m\u001b[0m\n\u001b[0m\u001b[1;32m      4\u001b[0m \u001b[0;34m\u001b[0m\u001b[0m\n\u001b[1;32m      5\u001b[0m \u001b[0mn\u001b[0m \u001b[0;34m=\u001b[0m \u001b[0;36m50\u001b[0m\u001b[0;34m\u001b[0m\u001b[0;34m\u001b[0m\u001b[0m\n",
      "\u001b[0;32m<ipython-input-12-853c8228d91c>\u001b[0m in \u001b[0;36mq_learning\u001b[0;34m(env, policy, Q, num_episodes, discount_factor, alpha)\u001b[0m\n\u001b[1;32m     26\u001b[0m \u001b[0;34m\u001b[0m\u001b[0m\n\u001b[1;32m     27\u001b[0m         \u001b[0;31m# YOUR CODE HERE\u001b[0m\u001b[0;34m\u001b[0m\u001b[0;34m\u001b[0m\u001b[0;34m\u001b[0m\u001b[0m\n\u001b[0;32m---> 28\u001b[0;31m         \u001b[0;32mraise\u001b[0m \u001b[0mNotImplementedError\u001b[0m\u001b[0;34m\u001b[0m\u001b[0;34m\u001b[0m\u001b[0m\n\u001b[0m\u001b[1;32m     29\u001b[0m \u001b[0;34m\u001b[0m\u001b[0m\n\u001b[1;32m     30\u001b[0m         \u001b[0mstats\u001b[0m\u001b[0;34m.\u001b[0m\u001b[0mappend\u001b[0m\u001b[0;34m(\u001b[0m\u001b[0;34m(\u001b[0m\u001b[0mi\u001b[0m\u001b[0;34m,\u001b[0m \u001b[0mR\u001b[0m\u001b[0;34m)\u001b[0m\u001b[0;34m)\u001b[0m\u001b[0;34m\u001b[0m\u001b[0;34m\u001b[0m\u001b[0m\n",
      "\u001b[0;31mNotImplementedError\u001b[0m: "
     ]
    }
   ],
   "source": [
    "Q = np.zeros((env.nS, env.nA))\n",
    "policy = EpsilonGreedyPolicy(Q, epsilon=0.1)\n",
    "Q_q_learning, (episode_lengths_q_learning, episode_returns_q_learning) = q_learning(env, policy, Q, 1000)\n",
    "\n",
    "n = 50\n",
    "# We will help you with plotting this time\n",
    "plt.plot(running_mean(episode_lengths_q_learning,n))\n",
    "plt.title('Episode lengths Q-learning')\n",
    "plt.show()\n",
    "plt.plot(running_mean(episode_returns_q_learning,n))\n",
    "plt.title('Episode returns Q-learning')\n",
    "plt.show()"
   ]
  },
  {
   "cell_type": "markdown",
   "metadata": {},
   "source": [
    "# Comparing episode returns during training"
   ]
  },
  {
   "cell_type": "markdown",
   "metadata": {
    "nbgrader": {
     "grade": false,
     "grade_id": "cell-9f1fcee44ba712c2",
     "locked": true,
     "schema_version": 1,
     "solution": false
    }
   },
   "source": [
    "You will now compare the episode returns while learning for Q-learning and Sarsa by plotting the returns for both algorithms in a single plot, like in the book, Example 6.6. In order to be able to compare them, we will smooth the returns (e.g. plot the $n$ episode average instead)."
   ]
  },
  {
   "cell_type": "code",
   "execution_count": null,
   "metadata": {
    "nbgrader": {
     "grade": true,
     "grade_id": "cell-69ed62a52a44dd78",
     "locked": false,
     "points": 1,
     "schema_version": 1,
     "solution": true
    }
   },
   "outputs": [],
   "source": [
    "def running_mean(vals, n=1):\n",
    "    cumvals = np.array(vals).cumsum()\n",
    "    return (cumvals[n:] - cumvals[:-n]) / n\n",
    "\n",
    "n = 100\n",
    "plt.plot(running_mean(episode_returns_q_learning, n))\n",
    "plt.plot(running_mean(episode_returns_sarsa, n))\n",
    "plt.title('Episode returns TD')\n",
    "plt.legend(['Q-Learning', 'Sarsa'])\n",
    "plt.gca().set_ylim([-50, 0])\n",
    "plt.show()"
   ]
  },
  {
   "cell_type": "markdown",
   "metadata": {},
   "source": [
    "If you want to test/submit your solution **restart the kernel, run all cells and submit the td_autograde.py file into codegrade.**"
   ]
  }
 ],
 "metadata": {
  "celltoolbar": "Create Assignment",
  "kernelspec": {
   "display_name": "Python 3",
   "language": "python",
   "name": "python3"
  },
  "language_info": {
   "codemirror_mode": {
    "name": "ipython",
    "version": 3
   },
   "file_extension": ".py",
   "mimetype": "text/x-python",
   "name": "python",
   "nbconvert_exporter": "python",
   "pygments_lexer": "ipython3",
   "version": "3.7.3"
  }
 },
 "nbformat": 4,
 "nbformat_minor": 2
}
