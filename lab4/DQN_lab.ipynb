{
 "cells": [
  {
   "cell_type": "markdown",
   "metadata": {},
   "source": [
    "# Reinforcement Learning - Deep Q Network\n",
    "If you want to test/submit your solution **restart the kernel, run all cells and submit the dqn_autograde.py file into codegrade.**"
   ]
  },
  {
   "cell_type": "code",
   "execution_count": 1,
   "metadata": {},
   "outputs": [],
   "source": [
    "from custommagics import CustomMagics\n",
    "get_ipython().register_magics(CustomMagics)"
   ]
  },
  {
   "cell_type": "code",
   "execution_count": 262,
   "metadata": {},
   "outputs": [
    {
     "name": "stdout",
     "output_type": "stream",
     "text": [
      "Writing dqn_autograde.py\n"
     ]
    }
   ],
   "source": [
    "%%execwritefile dqn_autograde.py\n",
    "import numpy as np\n",
    "import random\n",
    "import torch\n",
    "from torch import nn\n",
    "import torch.nn.functional as F\n",
    "from torch import optim\n",
    "from tqdm import tqdm as _tqdm\n",
    "\n",
    "def tqdm(*args, **kwargs):\n",
    "    return _tqdm(*args, **kwargs, mininterval=1)  # Safety, do not overflow buffer"
   ]
  },
  {
   "cell_type": "code",
   "execution_count": 3,
   "metadata": {
    "nbgrader": {
     "grade": false,
     "grade_id": "cell-fc69f22067705372",
     "locked": true,
     "schema_version": 1,
     "solution": false
    }
   },
   "outputs": [],
   "source": [
    "%matplotlib inline\n",
    "import matplotlib.pyplot as plt\n",
    "import sys\n",
    "import time\n",
    "\n",
    "assert sys.version_info[:3] >= (3, 6, 0), \"Make sure you have Python 3.6 installed!\""
   ]
  },
  {
   "cell_type": "markdown",
   "metadata": {
    "nbgrader": {
     "grade": false,
     "grade_id": "cell-fef7e20e54e6243b",
     "locked": true,
     "schema_version": 1,
     "solution": false
    }
   },
   "source": [
    "## 1. Deep Q-Network (DQN)"
   ]
  },
  {
   "cell_type": "code",
   "execution_count": 4,
   "metadata": {
    "nbgrader": {
     "grade": true,
     "grade_id": "cell-39519f4ab05eb2a1",
     "locked": true,
     "points": 0,
     "schema_version": 1,
     "solution": false
    }
   },
   "outputs": [
    {
     "name": "stderr",
     "output_type": "stream",
     "text": [
      "/home/daniel/anaconda3/envs/rl2020/lib/python3.7/site-packages/gym/envs/registration.py:14: PkgResourcesDeprecationWarning: Parameters to load are deprecated.  Call .resolve and .require separately.\n",
      "  result = entry_point.load(False)\n"
     ]
    }
   ],
   "source": [
    "import gym\n",
    "env = gym.envs.make(\"CartPole-v1\")"
   ]
  },
  {
   "cell_type": "code",
   "execution_count": 43,
   "metadata": {},
   "outputs": [],
   "source": [
    "# env is a TimeLimit wrapper around an env, so use env.env to look into the env (but otherwise you can forget about this)\n",
    "??env.env"
   ]
  },
  {
   "cell_type": "code",
   "execution_count": 8,
   "metadata": {},
   "outputs": [],
   "source": [
    "# The nice thing about the CARTPOLE is that it has very nice rendering functionality (if you are on a local environment). Let's have a look at an episode\n",
    "obs = env.reset()\n",
    "env.render()\n",
    "done = False\n",
    "while not done:\n",
    "    obs, reward, done, _ = env.step(env.action_space.sample())\n",
    "    env.render()\n",
    "    time.sleep(0.05)\n",
    "    \n",
    "env.close()  # Close the environment or you will have a lot of render screens soon"
   ]
  },
  {
   "cell_type": "code",
   "execution_count": 9,
   "metadata": {},
   "outputs": [],
   "source": [
    "env.close()"
   ]
  },
  {
   "cell_type": "markdown",
   "metadata": {
    "nbgrader": {
     "grade": false,
     "grade_id": "cell-2d83f70e62b99520",
     "locked": true,
     "schema_version": 1,
     "solution": false
    }
   },
   "source": [
    "Remember from the previous lab, that in order to optimize a policy we need to estimate the Q-values (e.g. estimate the *action* values). In the CartPole problem, our state is current position of the cart, the current velocity of the cart, the current (angular) position of the pole and the (angular) speed of the pole. As these are continuous variables, we have an infinite number of states (ignoring the fact that a digital computer can only represent finitely many states in finite memory)."
   ]
  },
  {
   "cell_type": "markdown",
   "metadata": {
    "nbgrader": {
     "grade": false,
     "grade_id": "cell-0b3162496f5e6cf5",
     "locked": true,
     "schema_version": 1,
     "solution": false
    }
   },
   "source": [
    "### 2.1 Implement Q-Network"
   ]
  },
  {
   "cell_type": "markdown",
   "metadata": {
    "nbgrader": {
     "grade": false,
     "grade_id": "cell-96a86bcfa1ebc84a",
     "locked": true,
     "schema_version": 1,
     "solution": false
    }
   },
   "source": [
    "We will not use the tabular approach but approximate the Q-value function by a general approximator function. We will skip the linear case and directly use a two layer Neural Network. We use [PyTorch](https://pytorch.org/) to implement the network, as this will allow us to train it easily later. We can implement a model using `torch.nn.Sequential`, but with PyTorch it is actually very easy to implement the model (e.g. the forward pass) from scratch. Now implement the `QNetwork.forward` function that uses one hidden layer with ReLU activation (no output activation)."
   ]
  },
  {
   "cell_type": "code",
   "execution_count": 263,
   "metadata": {
    "nbgrader": {
     "grade": false,
     "grade_id": "cell-216429a5dccf8a0e",
     "locked": false,
     "schema_version": 1,
     "solution": true
    }
   },
   "outputs": [
    {
     "name": "stdout",
     "output_type": "stream",
     "text": [
      "Appending to dqn_autograde.py\n"
     ]
    }
   ],
   "source": [
    "%%execwritefile -a dqn_autograde.py\n",
    "\n",
    "class QNetwork(nn.Module):\n",
    "    \n",
    "    def __init__(self, num_hidden=128):\n",
    "        nn.Module.__init__(self)\n",
    "        self.l1 = nn.Linear(4, num_hidden)\n",
    "        self.l2 = nn.Linear(num_hidden, 2)\n",
    "\n",
    "    def forward(self, x):\n",
    "        x = torch.Tensor(x) # Seems like this does nothing, even when numpy gets passed into Q\n",
    "        layer_1 = self.l1(x)\n",
    "        hidden = nn.functional.relu(layer_1) # Apply activation function as function rather than later\n",
    "        output = self.l2(hidden)\n",
    "        return output"
   ]
  },
  {
   "cell_type": "code",
   "execution_count": 45,
   "metadata": {
    "nbgrader": {
     "grade": true,
     "grade_id": "cell-00ce108d640a5942",
     "locked": true,
     "points": 1,
     "schema_version": 1,
     "solution": false
    }
   },
   "outputs": [],
   "source": [
    "# Let's instantiate and test if it works\n",
    "num_hidden = 128\n",
    "torch.manual_seed(1)\n",
    "Q_net = QNetwork(num_hidden)\n",
    "\n",
    "torch.manual_seed(1)\n",
    "test_model = nn.Sequential(\n",
    "    nn.Linear(4, num_hidden), \n",
    "    nn.ReLU(), \n",
    "    nn.Linear(num_hidden, 2)\n",
    ")\n",
    "\n",
    "x = torch.rand(10, 4)\n",
    "\n",
    "# If you do not need backpropagation, wrap the computation in the torch.no_grad() context\n",
    "# This saves time and memory, and PyTorch complaints when converting to numpy\n",
    "with torch.no_grad():\n",
    "    assert np.allclose(Q_net(x).numpy(), test_model(x).numpy())"
   ]
  },
  {
   "cell_type": "markdown",
   "metadata": {
    "nbgrader": {
     "grade": false,
     "grade_id": "cell-ca77eae2e62180cf",
     "locked": true,
     "schema_version": 1,
     "solution": false
    }
   },
   "source": [
    "### 2.2 Experience Replay"
   ]
  },
  {
   "cell_type": "markdown",
   "metadata": {
    "nbgrader": {
     "grade": false,
     "grade_id": "cell-2c1d117a1a75fd69",
     "locked": true,
     "schema_version": 1,
     "solution": false
    }
   },
   "source": [
    "In order to stabilize learning, we will use an experience replay to save states in and sample states from. Now implement the `push` function that adds a transition to the replay buffer, and the `sample` function that samples a (random!) batch of data, for use during training (hint: you can use the function `random.sample`). It should keep at most the maximum number of transitions."
   ]
  },
  {
   "cell_type": "code",
   "execution_count": 242,
   "metadata": {
    "nbgrader": {
     "grade": false,
     "grade_id": "cell-a3cc876e51eb157f",
     "locked": false,
     "schema_version": 1,
     "solution": true
    }
   },
   "outputs": [
    {
     "name": "stdout",
     "output_type": "stream",
     "text": [
      "Appending to dqn_autograde.py\n"
     ]
    }
   ],
   "source": [
    "%%execwritefile -a dqn_autograde.py\n",
    "\n",
    "class ReplayMemory:\n",
    "    \n",
    "    def __init__(self, capacity):\n",
    "        self.capacity = capacity\n",
    "        self.memory = []\n",
    "\n",
    "    def push(self, transition):\n",
    "        if len(self.memory)>self.capacity-1:\n",
    "            del self.memory[0] # Would maybe be nice to store this for the case that memory.append fails\n",
    "                               # but that requires quite extensive error handling which is not important here\n",
    "        self.memory.append(transition)\n",
    "\n",
    "    def sample(self, batch_size):\n",
    "        return random.sample(self.memory, batch_size)\n",
    "\n",
    "    def __len__(self):\n",
    "        return len(self.memory)"
   ]
  },
  {
   "cell_type": "code",
   "execution_count": 20,
   "metadata": {
    "nbgrader": {
     "grade": true,
     "grade_id": "cell-3b90135921c4da76",
     "locked": true,
     "points": 1,
     "schema_version": 1,
     "solution": false
    }
   },
   "outputs": [
    {
     "name": "stdout",
     "output_type": "stream",
     "text": [
      "[(array([-0.02415264, -0.02596274, -0.01153027, -0.0390442 ]), 1, 1.0, array([-0.0246719 ,  0.16932264, -0.01231115, -0.33534263]), False)]\n"
     ]
    }
   ],
   "source": [
    "capacity = 10\n",
    "memory = ReplayMemory(capacity)\n",
    "\n",
    "# Sample a transition\n",
    "s = env.reset()\n",
    "a = env.action_space.sample()\n",
    "s_next, r, done, _ = env.step(a)\n",
    "\n",
    "# Push a transition\n",
    "memory.push((s, a, r, s_next, done))\n",
    "\n",
    "# Sample a batch size of 1\n",
    "print(memory.sample(1))"
   ]
  },
  {
   "cell_type": "markdown",
   "metadata": {
    "nbgrader": {
     "grade": false,
     "grade_id": "cell-88f67e3c051da6a9",
     "locked": true,
     "schema_version": 1,
     "solution": false
    }
   },
   "source": [
    "### 2.3 $\\epsilon$psilon greedy policy"
   ]
  },
  {
   "cell_type": "markdown",
   "metadata": {
    "nbgrader": {
     "grade": false,
     "grade_id": "cell-aa3c7d1b3000f697",
     "locked": true,
     "schema_version": 1,
     "solution": false
    }
   },
   "source": [
    "In order to learn a good policy, we need to explore quite a bit initially. As we start to learn a good policy, we want to decrease the exploration. As the amount of exploration using an $\\epsilon$-greedy policy is controlled by $\\epsilon$, we can define an 'exploration scheme' by writing $\\epsilon$ as a function of time. There are many possible schemes, but we will use a simple one: we will start with only exploring (so taking random actions) at iteration 0, and then in 1000 iterations linearly anneal $\\epsilon$ such that after 1000 iterations we take random (exploration) actions with 5\\% probability (forever, as you never know if the environment will change)."
   ]
  },
  {
   "cell_type": "code",
   "execution_count": 243,
   "metadata": {
    "nbgrader": {
     "grade": false,
     "grade_id": "cell-5789e7a792108576",
     "locked": false,
     "schema_version": 1,
     "solution": true
    }
   },
   "outputs": [
    {
     "name": "stdout",
     "output_type": "stream",
     "text": [
      "Appending to dqn_autograde.py\n"
     ]
    }
   ],
   "source": [
    "%%execwritefile -a dqn_autograde.py\n",
    "\n",
    "def get_epsilon(it):\n",
    "    # YOUR CODE HERE\n",
    "    annealing_time = 1000\n",
    "    progress = it/annealing_time\n",
    "    \n",
    "    max_eps = 1\n",
    "    min_eps = 0.05\n",
    "    epsilon = max(max_eps - (max_eps - min_eps) * progress, min_eps)\n",
    "    \n",
    "    return epsilon"
   ]
  },
  {
   "cell_type": "code",
   "execution_count": 26,
   "metadata": {
    "nbgrader": {
     "grade": true,
     "grade_id": "cell-40e66db45e742b2e",
     "locked": true,
     "points": 1,
     "schema_version": 1,
     "solution": false
    }
   },
   "outputs": [
    {
     "data": {
      "text/plain": [
       "[<matplotlib.lines.Line2D at 0x7faa9a1d8c10>]"
      ]
     },
     "execution_count": 26,
     "metadata": {},
     "output_type": "execute_result"
    },
    {
     "data": {
      "image/png": "[encoded data removed]",
      "text/plain": [
       "<Figure size 432x288 with 1 Axes>"
      ]
     },
     "metadata": {
      "needs_background": "light"
     },
     "output_type": "display_data"
    }
   ],
   "source": [
    "# So what's an easy way to check?\n",
    "plt.plot([get_epsilon(it) for it in range(5000)])"
   ]
  },
  {
   "cell_type": "markdown",
   "metadata": {
    "nbgrader": {
     "grade": false,
     "grade_id": "cell-a8b604c9998c6c3b",
     "locked": true,
     "schema_version": 1,
     "solution": false
    }
   },
   "source": [
    "Now write a function of *EpsilonGreedyPolicy* class. This function takes a state and uses the Q-network to select an ($\\epsilon$-greedy) action. It should return a random action with probability epsilon. Note, you do not need to backpropagate through the model computations, so use `with torch.no_grad():` (see above for example). Note that to convert a PyTorch tensor with only 1 element (0 dimensional) to a simple python scalar (int or float), you can use the '.item()' function."
   ]
  },
  {
   "cell_type": "code",
   "execution_count": 256,
   "metadata": {
    "nbgrader": {
     "grade": false,
     "grade_id": "cell-878ad3a637cfb51c",
     "locked": false,
     "schema_version": 1,
     "solution": true
    }
   },
   "outputs": [
    {
     "name": "stdout",
     "output_type": "stream",
     "text": [
      "Appending to dqn_autograde.py\n"
     ]
    }
   ],
   "source": [
    "%%execwritefile -a dqn_autograde.py\n",
    "\n",
    "class EpsilonGreedyPolicy(object):\n",
    "    \"\"\"\n",
    "    A simple epsilon greedy policy.\n",
    "    \"\"\"\n",
    "    def __init__(self, Q, epsilon):\n",
    "        self.Q = Q\n",
    "        self.epsilon = epsilon\n",
    "    \n",
    "    def sample_action(self, obs):\n",
    "        \"\"\"\n",
    "        This method takes a state as input and returns an action sampled from this policy.  \n",
    "\n",
    "        Args:\n",
    "            obs: current state\n",
    "\n",
    "        Returns:\n",
    "            An action (int).\n",
    "        \"\"\"\n",
    "        # YOUR CODE HERE\n",
    "        # So we first need to choose whether we are taking a random action or a policy action\n",
    "        if random.choices([True, False], weights=[self.epsilon, 1-self.epsilon], k=1)[0]:\n",
    "            # This means we need to make a random choice for the action to be performed\n",
    "            # The size of the output layer of Q_net is hardcoded as 2, so we will do that here too\n",
    "            return random.choice(range(2))\n",
    "        else:\n",
    "            # This means we need to use the policy network\n",
    "            obs = torch.Tensor(obs) # Stays Tensor if it was already one, becomes tensor if not\n",
    "            action = torch.argmax(self.Q(obs)).item()\n",
    "            return action\n",
    "        \n",
    "    def set_epsilon(self, epsilon):\n",
    "        self.epsilon = epsilon"
   ]
  },
  {
   "cell_type": "code",
   "execution_count": 85,
   "metadata": {
    "nbgrader": {
     "grade": true,
     "grade_id": "cell-e895338d56bee477",
     "locked": true,
     "points": 1,
     "schema_version": 1,
     "solution": false
    }
   },
   "outputs": [
    {
     "name": "stdout",
     "output_type": "stream",
     "text": [
      "0\n"
     ]
    }
   ],
   "source": [
    "s = env.reset()\n",
    "epg = EpsilonGreedyPolicy(Q_net, 0.05)\n",
    "a = epg.sample_action(s)\n",
    "assert not torch.is_tensor(a)\n",
    "print (a)"
   ]
  },
  {
   "cell_type": "code",
   "execution_count": 146,
   "metadata": {},
   "outputs": [],
   "source": [
    "?env.step"
   ]
  },
  {
   "cell_type": "markdown",
   "metadata": {
    "nbgrader": {
     "grade": false,
     "grade_id": "cell-ec5e94e0b03f8aec",
     "locked": true,
     "schema_version": 1,
     "solution": false
    }
   },
   "source": [
    "### 2.4 Training function"
   ]
  },
  {
   "cell_type": "markdown",
   "metadata": {
    "nbgrader": {
     "grade": false,
     "grade_id": "cell-d1a12cc97386fe56",
     "locked": true,
     "schema_version": 1,
     "solution": false
    }
   },
   "source": [
    "Now we will implement the function 'train' that samples a batch from the memory and performs a gradient step using some convenient PyTorch functionality. However, you still need to compute the Q-values for the (state, action) pairs in the experience, as well as their target (e.g. the value they should move towards). What is the target for a Q-learning update? What should be the target if `next_state` is terminal (e.g. `done`)?\n",
    "\n",
    "For computing the Q-values for the actions, note that the model returns all action values where you are only interested in a single action value. Because of the batch dimension, you can't use simple indexing, but you may want to have a look at [torch.gather](https://pytorch.org/docs/stable/torch.html?highlight=gather#torch.gather) or use [advanced indexing](https://docs.scipy.org/doc/numpy-1.13.0/reference/arrays.indexing.html) (numpy tutorial but works mostly the same in PyTorch). Note, you should NOT modify the function train. You can view the size of a tensor `x` with `x.size()` (similar to `x.shape` in numpy)."
   ]
  },
  {
   "cell_type": "code",
   "execution_count": 253,
   "metadata": {},
   "outputs": [
    {
     "data": {
      "text/plain": [
       "tensor([1., 2.])"
      ]
     },
     "execution_count": 253,
     "metadata": {},
     "output_type": "execute_result"
    }
   ],
   "source": [
    "# all_actions=torch.Tensor([[1, 3, 4], [2, 3, 3]])\n",
    "# actions = torch.Tensor([1, 2])\n",
    "actions = np.array([1, 2])\n",
    "# print(all_actions[range(all_actions.shape[0]), actions.tolist()].unsqueeze(dim=1))\n",
    "# torch.tensor([True, False]).dtype == torch.bool\n",
    "isinstance(torch.Tensor(actions), torch.Tensor)\n",
    "actions = torch.Tensor(actions)\n",
    "torch.Tensor(torch.Tensor(actions))"
   ]
  },
  {
   "cell_type": "code",
   "execution_count": 245,
   "metadata": {
    "nbgrader": {
     "grade": false,
     "grade_id": "cell-6c45485324b40081",
     "locked": false,
     "schema_version": 1,
     "solution": true
    }
   },
   "outputs": [
    {
     "name": "stdout",
     "output_type": "stream",
     "text": [
      "Appending to dqn_autograde.py\n"
     ]
    }
   ],
   "source": [
    "%%execwritefile -a dqn_autograde.py\n",
    "\n",
    "\n",
    "def compute_q_vals(Q, states, actions=None):\n",
    "    \"\"\"\n",
    "    This method returns Q values for given state action pairs.\n",
    "    \n",
    "    Args:\n",
    "        Q: Q-net\n",
    "        states: a tensor of states. Shape: batch_size x obs_dim\n",
    "        actions: a tensor of actions. Shape: Shape: batch_size x 1\n",
    "\n",
    "    Returns:\n",
    "        A torch tensor filled with Q values. Shape: batch_size x 1.\n",
    "    \"\"\"\n",
    "    all_actions = Q(states)\n",
    "    if not actions is None:\n",
    "        Q_values = all_actions[range(all_actions.shape[0]), actions.squeeze().tolist()].unsqueeze(dim=1)\n",
    "    else: # If actions are not defined, we take the best action's Q-value\n",
    "        Q_values, _ = all_actions.max(dim=1, keepdim=True)\n",
    "        # Could be updated to include the argmax as well\n",
    "    return Q_values\n",
    "    \n",
    "def compute_targets(Q, rewards, next_states, dones, discount_factor):\n",
    "    \"\"\"\n",
    "    This method returns targets (values towards which Q-values should move).\n",
    "    \n",
    "    Args:\n",
    "        Q: Q-net\n",
    "        rewards: a tensor of actions. Shape: Shape: batch_size x 1\n",
    "        next_states: a tensor of states. Shape: batch_size x obs_dim\n",
    "        dones: a tensor of boolean done flags (indicates if next_state is terminal) Shape: batch_size x 1\n",
    "        discount_factor: discount\n",
    "    Returns:\n",
    "        A torch tensor filled with target values. Shape: batch_size x 1.\n",
    "    \"\"\"\n",
    "    # YOUR CODE HERE\n",
    "    \n",
    "    # First, we need to find the max Q-value (over actions) from the next states\n",
    "    future_Q_vals = compute_q_vals(Q, next_states)\n",
    "    \n",
    "    # if the next state is terminal, the Q-value should be zero:\n",
    "    # turns out that 'dones' is not actually a boolean tensor, but an integer tensor. Waste of memory..\n",
    "    # In codegrade, the dones are in fact boolean tensors. What a mess :')\n",
    "    if dones.dtype == torch.bool: # Use boolean operators when actual boolean tensor\n",
    "        done_tensor = ~dones\n",
    "        future_Q_vals *= done_tensor\n",
    "    else: # Must be a numerical tensor representing boolean values then\n",
    "        done_tensor = 1 - dones  \n",
    "        future_Q_vals *= done_tensor\n",
    "    \n",
    "    # With some complicated indexing tricks we could prevent the done states from passing through the Q-net\n",
    "    # but this will likely not save a significant amount of processing time\n",
    "    \n",
    "    target = rewards + discount_factor * future_Q_vals\n",
    "    \n",
    "    return target\n",
    "\n",
    "def train(Q, memory, optimizer, batch_size, discount_factor):\n",
    "    # DO NOT MODIFY THIS FUNCTION\n",
    "    \n",
    "    # don't learn without some decent experience\n",
    "    if len(memory) < batch_size:\n",
    "        return None\n",
    "\n",
    "    # random transition batch is taken from experience replay memory\n",
    "    transitions = memory.sample(batch_size)\n",
    "    \n",
    "    # transition is a list of 4-tuples, instead we want 4 vectors (as torch.Tensor's)\n",
    "    state, action, reward, next_state, done = zip(*transitions)\n",
    "    \n",
    "    # convert to PyTorch and define types\n",
    "    state = torch.tensor(state, dtype=torch.float)\n",
    "    action = torch.tensor(action, dtype=torch.int64)[:, None]  # Need 64 bit to use them as index\n",
    "    next_state = torch.tensor(next_state, dtype=torch.float)\n",
    "    reward = torch.tensor(reward, dtype=torch.float)[:, None]\n",
    "    done = torch.tensor(done, dtype=torch.uint8)[:, None]  # Boolean\n",
    "    \n",
    "    # compute the q value\n",
    "    q_val = compute_q_vals(Q, state, action)\n",
    "    with torch.no_grad():  # Don't compute gradient info for the target (semi-gradient)\n",
    "        target = compute_targets(Q, reward, next_state, done, discount_factor)\n",
    "    \n",
    "    # loss is measured from error between current and newly expected Q values\n",
    "    loss = F.smooth_l1_loss(q_val, target)\n",
    "\n",
    "    # backpropagation of loss to Neural Network (PyTorch magic)\n",
    "    optimizer.zero_grad()\n",
    "    loss.backward()\n",
    "    optimizer.step()\n",
    "    \n",
    "    return loss.item()  # Returns a Python scalar, and releases history (similar to .detach())"
   ]
  },
  {
   "cell_type": "code",
   "execution_count": 226,
   "metadata": {
    "nbgrader": {
     "grade": true,
     "grade_id": "cell-b060b822eec4282f",
     "locked": true,
     "points": 2,
     "schema_version": 1,
     "solution": false
    }
   },
   "outputs": [
    {
     "name": "stdout",
     "output_type": "stream",
     "text": [
      "0.6255685091018677\n"
     ]
    }
   ],
   "source": [
    "# You may want to test your functions individually, but after you do so lets see if the method train works.\n",
    "batch_size = 64\n",
    "discount_factor = 0.8\n",
    "learn_rate = 1e-3\n",
    "# Simple gradient descent may take long, so we will use Adam\n",
    "optimizer = optim.Adam(Q_net.parameters(), learn_rate)\n",
    "\n",
    "# We need a larger memory, fill with dummy data\n",
    "transition = memory.sample(1)[0]\n",
    "memory = ReplayMemory(10 * batch_size)\n",
    "for i in range(batch_size):\n",
    "    memory.push(transition)\n",
    "\n",
    "# Now let's see if it works\n",
    "loss = train(Q_net, memory, optimizer, batch_size, discount_factor)\n",
    "\n",
    "print (loss)"
   ]
  },
  {
   "cell_type": "markdown",
   "metadata": {
    "nbgrader": {
     "grade": false,
     "grade_id": "cell-3eafd0ab49103f3b",
     "locked": true,
     "schema_version": 1,
     "solution": false
    }
   },
   "source": [
    "### 2.5 Put it all together"
   ]
  },
  {
   "cell_type": "markdown",
   "metadata": {
    "nbgrader": {
     "grade": false,
     "grade_id": "cell-36b8a04b393d8104",
     "locked": true,
     "schema_version": 1,
     "solution": false
    }
   },
   "source": [
    "Now that you have implemented the training step, you should be able to put everything together. Implement the function `run_episodes` that runs a number of episodes of DQN training. It should return the durations (e.g. number of steps) of each episode. Note: we pass the train function as an argument such that we can swap it for a different training step later."
   ]
  },
  {
   "cell_type": "code",
   "execution_count": 182,
   "metadata": {},
   "outputs": [],
   "source": [
    "?env.env"
   ]
  },
  {
   "cell_type": "code",
   "execution_count": 261,
   "metadata": {
    "nbgrader": {
     "grade": false,
     "grade_id": "cell-540a7d50ecc1d046",
     "locked": false,
     "schema_version": 1,
     "solution": true
    }
   },
   "outputs": [
    {
     "name": "stdout",
     "output_type": "stream",
     "text": [
      "Appending to dqn_autograde.py\n"
     ]
    }
   ],
   "source": [
    "%%execwritefile -a dqn_autograde.py\n",
    "\n",
    "def run_episodes(train, Q, policy, memory, env, num_episodes, batch_size, discount_factor, learn_rate):\n",
    "    \n",
    "    optimizer = optim.Adam(Q.parameters(), learn_rate)\n",
    "    \n",
    "    global_steps = 0  # Count the steps (do not reset at episode start, to compute epsilon)\n",
    "    episode_durations = []  \n",
    "    for i in range(num_episodes):\n",
    "        state = env.reset()\n",
    "        \n",
    "        steps = 0\n",
    "        while True:\n",
    "            # So it seems like here we should sample an episode,\n",
    "            # and every step update the weights\n",
    "            \n",
    "            # So first sample an action\n",
    "            sampled_action = policy.sample_action(state)\n",
    "            \n",
    "            # Then step \n",
    "            state_tuple = env.step(sampled_action)\n",
    "            \n",
    "            # Store this transition in memory:\n",
    "            s_next, r, done, _ = state_tuple\n",
    "            memory.push((state, sampled_action, r, s_next, done))\n",
    "            state = s_next\n",
    "            \n",
    "            # Now that we have added a transition, we should try to train based on our memory\n",
    "            loss = train(Q, memory, optimizer, batch_size, discount_factor)\n",
    "            # This is like online learning, we could also only train once per episode\n",
    "            \n",
    "            steps += 1\n",
    "            global_steps += 1\n",
    "            \n",
    "            # Update epsilon\n",
    "            policy.set_epsilon(get_epsilon(global_steps))\n",
    "            \n",
    "            if done:\n",
    "                if i % 10 == 0:\n",
    "                    print(\"{2} Episode {0} finished after {1} steps\"\n",
    "                          .format(i, steps, '\\033[92m' if steps >= 195 else '\\033[99m'))\n",
    "                    print(\"epsilon: \", policy.epsilon)\n",
    "                episode_durations.append(steps)\n",
    "                #plot_durations()\n",
    "                break\n",
    "    return episode_durations"
   ]
  },
  {
   "cell_type": "code",
   "execution_count": 260,
   "metadata": {},
   "outputs": [
    {
     "name": "stdout",
     "output_type": "stream",
     "text": [
      "\u001b[99m Episode 0 finished after 13 steps with reward 13.0\n",
      "epsilon:  0.98765\n",
      "\u001b[99m Episode 10 finished after 25 steps with reward 25.0\n",
      "epsilon:  0.79765\n",
      "\u001b[99m Episode 20 finished after 15 steps with reward 15.0\n",
      "epsilon:  0.64375\n",
      "\u001b[99m Episode 30 finished after 12 steps with reward 12.0\n",
      "epsilon:  0.53545\n",
      "\u001b[99m Episode 40 finished after 48 steps with reward 48.0\n",
      "epsilon:  0.26375000000000004\n",
      "\u001b[99m Episode 50 finished after 116 steps with reward 116.0\n",
      "epsilon:  0.05\n",
      "\u001b[99m Episode 60 finished after 152 steps with reward 152.0\n",
      "epsilon:  0.05\n",
      "\u001b[99m Episode 70 finished after 169 steps with reward 169.0\n",
      "epsilon:  0.05\n",
      "\u001b[99m Episode 80 finished after 176 steps with reward 176.0\n",
      "epsilon:  0.05\n",
      "\u001b[92m Episode 90 finished after 220 steps with reward 220.0\n",
      "epsilon:  0.05\n",
      "\u001b[92m Episode 100 finished after 202 steps with reward 202.0\n",
      "epsilon:  0.05\n",
      "\u001b[99m Episode 110 finished after 185 steps with reward 185.0\n",
      "epsilon:  0.05\n",
      "\u001b[99m Episode 120 finished after 170 steps with reward 170.0\n",
      "epsilon:  0.05\n",
      "\u001b[92m Episode 130 finished after 206 steps with reward 206.0\n",
      "epsilon:  0.05\n",
      "\u001b[99m Episode 140 finished after 153 steps with reward 153.0\n",
      "epsilon:  0.05\n",
      "\u001b[99m Episode 150 finished after 176 steps with reward 176.0\n",
      "epsilon:  0.05\n",
      "\u001b[99m Episode 160 finished after 154 steps with reward 154.0\n",
      "epsilon:  0.05\n",
      "\u001b[99m Episode 170 finished after 187 steps with reward 187.0\n",
      "epsilon:  0.05\n",
      "\u001b[92m Episode 180 finished after 257 steps with reward 257.0\n",
      "epsilon:  0.05\n",
      "\u001b[99m Episode 190 finished after 173 steps with reward 173.0\n",
      "epsilon:  0.05\n",
      "\u001b[99m Episode 200 finished after 174 steps with reward 174.0\n",
      "epsilon:  0.05\n",
      "\u001b[99m Episode 210 finished after 81 steps with reward 81.0\n",
      "epsilon:  0.05\n",
      "\u001b[99m Episode 220 finished after 194 steps with reward 194.0\n",
      "epsilon:  0.05\n",
      "\u001b[92m Episode 230 finished after 310 steps with reward 310.0\n",
      "epsilon:  0.05\n",
      "\u001b[99m Episode 240 finished after 179 steps with reward 179.0\n",
      "epsilon:  0.05\n",
      "\u001b[99m Episode 250 finished after 157 steps with reward 157.0\n",
      "epsilon:  0.05\n",
      "\u001b[92m Episode 260 finished after 219 steps with reward 219.0\n",
      "epsilon:  0.05\n",
      "\u001b[92m Episode 270 finished after 205 steps with reward 205.0\n",
      "epsilon:  0.05\n",
      "\u001b[92m Episode 280 finished after 327 steps with reward 327.0\n",
      "epsilon:  0.05\n",
      "\u001b[92m Episode 290 finished after 267 steps with reward 267.0\n",
      "epsilon:  0.05\n",
      "\u001b[92m Episode 300 finished after 202 steps with reward 202.0\n",
      "epsilon:  0.05\n",
      "\u001b[92m Episode 310 finished after 216 steps with reward 216.0\n",
      "epsilon:  0.05\n",
      "\u001b[92m Episode 320 finished after 201 steps with reward 201.0\n",
      "epsilon:  0.05\n",
      "\u001b[92m Episode 330 finished after 267 steps with reward 267.0\n",
      "epsilon:  0.05\n",
      "\u001b[99m Episode 340 finished after 186 steps with reward 186.0\n",
      "epsilon:  0.05\n",
      "\u001b[99m Episode 350 finished after 194 steps with reward 194.0\n",
      "epsilon:  0.05\n",
      "\u001b[92m Episode 360 finished after 229 steps with reward 229.0\n",
      "epsilon:  0.05\n",
      "\u001b[92m Episode 370 finished after 500 steps with reward 500.0\n",
      "epsilon:  0.05\n",
      "\u001b[92m Episode 380 finished after 242 steps with reward 242.0\n",
      "epsilon:  0.05\n",
      "\u001b[92m Episode 390 finished after 208 steps with reward 208.0\n",
      "epsilon:  0.05\n",
      "\u001b[92m Episode 400 finished after 337 steps with reward 337.0\n",
      "epsilon:  0.05\n",
      "\u001b[99m Episode 410 finished after 124 steps with reward 124.0\n",
      "epsilon:  0.05\n",
      "\u001b[92m Episode 420 finished after 215 steps with reward 215.0\n",
      "epsilon:  0.05\n",
      "\u001b[92m Episode 430 finished after 226 steps with reward 226.0\n",
      "epsilon:  0.05\n",
      "\u001b[99m Episode 440 finished after 35 steps with reward 35.0\n",
      "epsilon:  0.05\n",
      "\u001b[99m Episode 450 finished after 132 steps with reward 132.0\n",
      "epsilon:  0.05\n",
      "\u001b[99m Episode 460 finished after 145 steps with reward 145.0\n",
      "epsilon:  0.05\n",
      "\u001b[92m Episode 470 finished after 259 steps with reward 259.0\n",
      "epsilon:  0.05\n",
      "\u001b[92m Episode 480 finished after 230 steps with reward 230.0\n",
      "epsilon:  0.05\n",
      "\u001b[92m Episode 490 finished after 309 steps with reward 309.0\n",
      "epsilon:  0.05\n",
      "\u001b[92m Episode 500 finished after 279 steps with reward 279.0\n",
      "epsilon:  0.05\n",
      "\u001b[99m Episode 510 finished after 162 steps with reward 162.0\n",
      "epsilon:  0.05\n",
      "\u001b[92m Episode 520 finished after 196 steps with reward 196.0\n",
      "epsilon:  0.05\n",
      "\u001b[92m Episode 530 finished after 247 steps with reward 247.0\n",
      "epsilon:  0.05\n",
      "\u001b[92m Episode 540 finished after 200 steps with reward 200.0\n",
      "epsilon:  0.05\n",
      "\u001b[99m Episode 550 finished after 137 steps with reward 137.0\n",
      "epsilon:  0.05\n",
      "\u001b[99m Episode 560 finished after 80 steps with reward 80.0\n",
      "epsilon:  0.05\n",
      "\u001b[92m Episode 570 finished after 277 steps with reward 277.0\n",
      "epsilon:  0.05\n",
      "\u001b[99m Episode 580 finished after 65 steps with reward 65.0\n",
      "epsilon:  0.05\n",
      "\u001b[92m Episode 590 finished after 211 steps with reward 211.0\n",
      "epsilon:  0.05\n",
      "\u001b[99m Episode 600 finished after 51 steps with reward 51.0\n",
      "epsilon:  0.05\n",
      "\u001b[99m Episode 610 finished after 112 steps with reward 112.0\n",
      "epsilon:  0.05\n",
      "\u001b[99m Episode 620 finished after 193 steps with reward 193.0\n",
      "epsilon:  0.05\n",
      "\u001b[99m Episode 630 finished after 87 steps with reward 87.0\n",
      "epsilon:  0.05\n",
      "\u001b[92m Episode 640 finished after 230 steps with reward 230.0\n",
      "epsilon:  0.05\n",
      "\u001b[99m Episode 650 finished after 172 steps with reward 172.0\n",
      "epsilon:  0.05\n",
      "\u001b[99m Episode 660 finished after 111 steps with reward 111.0\n",
      "epsilon:  0.05\n",
      "\u001b[99m Episode 670 finished after 192 steps with reward 192.0\n",
      "epsilon:  0.05\n",
      "\u001b[99m Episode 680 finished after 182 steps with reward 182.0\n",
      "epsilon:  0.05\n",
      "\u001b[99m Episode 690 finished after 114 steps with reward 114.0\n",
      "epsilon:  0.05\n",
      "\u001b[99m Episode 700 finished after 70 steps with reward 70.0\n",
      "epsilon:  0.05\n",
      "\u001b[99m Episode 710 finished after 82 steps with reward 82.0\n",
      "epsilon:  0.05\n",
      "\u001b[99m Episode 720 finished after 152 steps with reward 152.0\n",
      "epsilon:  0.05\n",
      "\u001b[99m Episode 730 finished after 57 steps with reward 57.0\n",
      "epsilon:  0.05\n",
      "\u001b[92m Episode 740 finished after 213 steps with reward 213.0\n",
      "epsilon:  0.05\n",
      "\u001b[99m Episode 750 finished after 92 steps with reward 92.0\n",
      "epsilon:  0.05\n",
      "\u001b[99m Episode 760 finished after 152 steps with reward 152.0\n",
      "epsilon:  0.05\n",
      "\u001b[99m Episode 770 finished after 68 steps with reward 68.0\n",
      "epsilon:  0.05\n",
      "\u001b[99m Episode 780 finished after 136 steps with reward 136.0\n",
      "epsilon:  0.05\n",
      "\u001b[99m Episode 790 finished after 28 steps with reward 28.0\n",
      "epsilon:  0.05\n",
      "\u001b[99m Episode 800 finished after 181 steps with reward 181.0\n",
      "epsilon:  0.05\n",
      "\u001b[92m Episode 810 finished after 281 steps with reward 281.0\n",
      "epsilon:  0.05\n",
      "\u001b[99m Episode 820 finished after 13 steps with reward 13.0\n",
      "epsilon:  0.05\n",
      "\u001b[92m Episode 830 finished after 267 steps with reward 267.0\n",
      "epsilon:  0.05\n",
      "\u001b[99m Episode 840 finished after 162 steps with reward 162.0\n",
      "epsilon:  0.05\n",
      "\u001b[99m Episode 850 finished after 45 steps with reward 45.0\n",
      "epsilon:  0.05\n",
      "\u001b[99m Episode 860 finished after 135 steps with reward 135.0\n",
      "epsilon:  0.05\n",
      "\u001b[92m Episode 870 finished after 360 steps with reward 360.0\n",
      "epsilon:  0.05\n",
      "\u001b[99m Episode 880 finished after 86 steps with reward 86.0\n",
      "epsilon:  0.05\n",
      "\u001b[99m Episode 890 finished after 171 steps with reward 171.0\n",
      "epsilon:  0.05\n",
      "\u001b[99m Episode 900 finished after 144 steps with reward 144.0\n",
      "epsilon:  0.05\n",
      "\u001b[99m Episode 910 finished after 167 steps with reward 167.0\n",
      "epsilon:  0.05\n",
      "\u001b[92m Episode 920 finished after 271 steps with reward 271.0\n",
      "epsilon:  0.05\n",
      "\u001b[99m Episode 930 finished after 131 steps with reward 131.0\n",
      "epsilon:  0.05\n",
      "\u001b[92m Episode 940 finished after 231 steps with reward 231.0\n",
      "epsilon:  0.05\n",
      "\u001b[99m Episode 950 finished after 116 steps with reward 116.0\n",
      "epsilon:  0.05\n",
      "\u001b[92m Episode 960 finished after 248 steps with reward 248.0\n",
      "epsilon:  0.05\n",
      "\u001b[99m Episode 970 finished after 163 steps with reward 163.0\n",
      "epsilon:  0.05\n",
      "\u001b[99m Episode 980 finished after 172 steps with reward 172.0\n",
      "epsilon:  0.05\n",
      "\u001b[92m Episode 990 finished after 314 steps with reward 314.0\n",
      "epsilon:  0.05\n"
     ]
    }
   ],
   "source": [
    "# Let's run it!\n",
    "num_episodes = 1000\n",
    "batch_size = 64\n",
    "discount_factor = 0.8\n",
    "learn_rate = 1e-3\n",
    "memory = ReplayMemory(50000)\n",
    "num_hidden = 128\n",
    "seed = 48  # This is not randomly chosen\n",
    "\n",
    "# We will seed the algorithm (before initializing QNetwork!) for reproducibility\n",
    "random.seed(seed)\n",
    "torch.manual_seed(seed)\n",
    "env.seed(seed)\n",
    "\n",
    "Q_net = QNetwork(num_hidden)\n",
    "policy = EpsilonGreedyPolicy(Q_net, 0.05)\n",
    "episode_durations = run_episodes(train, Q_net, policy, memory, env, num_episodes, batch_size, discount_factor, learn_rate)"
   ]
  },
  {
   "cell_type": "code",
   "execution_count": 259,
   "metadata": {},
   "outputs": [
    {
     "name": "stdout",
     "output_type": "stream",
     "text": [
      "\u001b[99m Episode 0 finished after 19 steps with reward 19.0\n",
      "epsilon:  0.98195\n",
      "\u001b[99m Episode 10 finished after 19 steps with reward 19.0\n",
      "epsilon:  0.78055\n",
      "\u001b[99m Episode 20 finished after 12 steps with reward 12.0\n",
      "epsilon:  0.63235\n",
      "\u001b[99m Episode 30 finished after 24 steps with reward 24.0\n",
      "epsilon:  0.4585\n",
      "\u001b[99m Episode 40 finished after 48 steps with reward 48.0\n",
      "epsilon:  0.08515000000000006\n",
      "\u001b[99m Episode 50 finished after 82 steps with reward 82.0\n",
      "epsilon:  0.05\n",
      "\u001b[99m Episode 60 finished after 166 steps with reward 166.0\n",
      "epsilon:  0.05\n",
      "\u001b[99m Episode 70 finished after 75 steps with reward 75.0\n",
      "epsilon:  0.05\n",
      "\u001b[99m Episode 80 finished after 143 steps with reward 143.0\n",
      "epsilon:  0.05\n",
      "\u001b[99m Episode 90 finished after 173 steps with reward 173.0\n",
      "epsilon:  0.05\n"
     ]
    }
   ],
   "source": [
    "# Let's run it!\n",
    "num_episodes = 100\n",
    "batch_size = 64\n",
    "discount_factor = 0.8\n",
    "learn_rate = 1e-3\n",
    "memory = ReplayMemory(10000)\n",
    "num_hidden = 128\n",
    "seed = 42  # This is not randomly chosen\n",
    "\n",
    "# We will seed the algorithm (before initializing QNetwork!) for reproducibility\n",
    "random.seed(seed)\n",
    "torch.manual_seed(seed)\n",
    "env.seed(seed)\n",
    "\n",
    "Q_net = QNetwork(num_hidden)\n",
    "policy = EpsilonGreedyPolicy(Q_net, 0.05)\n",
    "episode_durations = run_episodes(train, Q_net, policy, memory, env, num_episodes, batch_size, discount_factor, learn_rate)"
   ]
  },
  {
   "cell_type": "code",
   "execution_count": 194,
   "metadata": {
    "nbgrader": {
     "grade": true,
     "grade_id": "cell-928ecc11ed5c43d8",
     "locked": true,
     "points": 2,
     "schema_version": 1,
     "solution": false
    }
   },
   "outputs": [
    {
     "data": {
      "text/plain": [
       "Text(0.5, 1.0, 'Episode durations per episode')"
      ]
     },
     "execution_count": 194,
     "metadata": {},
     "output_type": "execute_result"
    },
    {
     "data": {
      "image/png": "[encoded data removed]",
      "text/plain": [
       "<Figure size 432x288 with 1 Axes>"
      ]
     },
     "metadata": {
      "needs_background": "light"
     },
     "output_type": "display_data"
    }
   ],
   "source": [
    "# And see the results\n",
    "def smooth(x, N):\n",
    "    cumsum = np.cumsum(np.insert(x, 0, 0)) \n",
    "    return (cumsum[N:] - cumsum[:-N]) / float(N)\n",
    "\n",
    "plt.plot(smooth(episode_durations, 10))\n",
    "plt.title('Episode durations per episode')"
   ]
  },
  {
   "cell_type": "markdown",
   "metadata": {},
   "source": [
    "If you want to test/submit your solution **restart the kernel, run all cells and submit the dqn_autograde.py file into codegrade.**"
   ]
  }
 ],
 "metadata": {
  "celltoolbar": "Create Assignment",
  "kernelspec": {
   "display_name": "Python 3",
   "language": "python",
   "name": "python3"
  },
  "language_info": {
   "codemirror_mode": {
    "name": "ipython",
    "version": 3
   },
   "file_extension": ".py",
   "mimetype": "text/x-python",
   "name": "python",
   "nbconvert_exporter": "python",
   "pygments_lexer": "ipython3",
   "version": "3.7.9"
  }
 },
 "nbformat": 4,
 "nbformat_minor": 2
}
